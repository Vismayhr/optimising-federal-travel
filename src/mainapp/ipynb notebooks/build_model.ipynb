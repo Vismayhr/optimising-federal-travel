{
 "cells": [
  {
   "cell_type": "code",
   "execution_count": 2,
   "metadata": {},
   "outputs": [],
   "source": [
    "# Imports\n",
    "import json\n",
    "import pandas as pd\n",
    "import numpy as np\n",
    "import pickle\n",
    "from sklearn.preprocessing import LabelEncoder, OneHotEncoder\n",
    "from pygeocoder import Geocoder\n",
    "from sklearn.preprocessing import StandardScaler\n",
    "from geopy.geocoders import GeocodeFarm, Nominatim\n",
    "from sklearn.compose import make_column_transformer, ColumnTransformer\n",
    "from sklearn.model_selection import train_test_split, cross_val_score\n",
    "from sklearn.linear_model import LinearRegression\n",
    "from sklearn.model_selection import cross_val_score\n",
    "from sklearn.model_selection import GridSearchCV\n",
    "from sklearn.neural_network import MLPRegressor\n",
    "from sklearn.tree import DecisionTreeRegressor\n",
    "from sklearn.ensemble import RandomForestRegressor\n",
    "from sklearn.metrics import mean_squared_error\n",
    "from sklearn.metrics import mean_absolute_error\n",
    "from xgboost import XGBRegressor\n",
    "from datetime import datetime"
   ]
  },
  {
   "cell_type": "code",
   "execution_count": 4,
   "metadata": {},
   "outputs": [
    {
     "data": {
      "text/html": [
       "<div>\n",
       "<style scoped>\n",
       "    .dataframe tbody tr th:only-of-type {\n",
       "        vertical-align: middle;\n",
       "    }\n",
       "\n",
       "    .dataframe tbody tr th {\n",
       "        vertical-align: top;\n",
       "    }\n",
       "\n",
       "    .dataframe thead th {\n",
       "        text-align: right;\n",
       "    }\n",
       "</style>\n",
       "<table border=\"1\" class=\"dataframe\">\n",
       "  <thead>\n",
       "    <tr style=\"text-align: right;\">\n",
       "      <th></th>\n",
       "      <th>Major Class</th>\n",
       "      <th>Month of Travel Date</th>\n",
       "      <th>From</th>\n",
       "      <th>To</th>\n",
       "      <th>Sum of Net Tickets</th>\n",
       "      <th>Sum of Total $</th>\n",
       "    </tr>\n",
       "  </thead>\n",
       "  <tbody>\n",
       "    <tr>\n",
       "      <th>0</th>\n",
       "      <td>Business Class</td>\n",
       "      <td>Jan</td>\n",
       "      <td>Calgary</td>\n",
       "      <td>Ottawa</td>\n",
       "      <td>2</td>\n",
       "      <td>6045.62</td>\n",
       "    </tr>\n",
       "    <tr>\n",
       "      <th>1</th>\n",
       "      <td>Business Class</td>\n",
       "      <td>Jan</td>\n",
       "      <td>Calgary</td>\n",
       "      <td>Victoria</td>\n",
       "      <td>1</td>\n",
       "      <td>740.60</td>\n",
       "    </tr>\n",
       "    <tr>\n",
       "      <th>2</th>\n",
       "      <td>Business Class</td>\n",
       "      <td>Jan</td>\n",
       "      <td>Campbell River</td>\n",
       "      <td>Ottawa</td>\n",
       "      <td>1</td>\n",
       "      <td>3482.85</td>\n",
       "    </tr>\n",
       "    <tr>\n",
       "      <th>3</th>\n",
       "      <td>Business Class</td>\n",
       "      <td>Jan</td>\n",
       "      <td>Charlottetown</td>\n",
       "      <td>Calgary</td>\n",
       "      <td>1</td>\n",
       "      <td>2807.24</td>\n",
       "    </tr>\n",
       "    <tr>\n",
       "      <th>4</th>\n",
       "      <td>Business Class</td>\n",
       "      <td>Jan</td>\n",
       "      <td>Charlottetown</td>\n",
       "      <td>Ottawa</td>\n",
       "      <td>1</td>\n",
       "      <td>737.35</td>\n",
       "    </tr>\n",
       "  </tbody>\n",
       "</table>\n",
       "</div>"
      ],
      "text/plain": [
       "      Major Class Month of Travel Date            From        To  \\\n",
       "0  Business Class                  Jan         Calgary    Ottawa   \n",
       "1  Business Class                  Jan         Calgary  Victoria   \n",
       "2  Business Class                  Jan  Campbell River    Ottawa   \n",
       "3  Business Class                  Jan   Charlottetown   Calgary   \n",
       "4  Business Class                  Jan   Charlottetown    Ottawa   \n",
       "\n",
       "   Sum of Net Tickets  Sum of Total $  \n",
       "0                   2         6045.62  \n",
       "1                   1          740.60  \n",
       "2                   1         3482.85  \n",
       "3                   1         2807.24  \n",
       "4                   1          737.35  "
      ]
     },
     "execution_count": 4,
     "metadata": {},
     "output_type": "execute_result"
    }
   ],
   "source": [
    "clean_df = pd.read_csv(\"../data/cleaned_government_data.csv\")\n",
    "clean_df.head(5)"
   ]
  },
  {
   "cell_type": "markdown",
   "metadata": {},
   "source": [
    "## Origin, Destination encoding"
   ]
  },
  {
   "cell_type": "code",
   "execution_count": 8,
   "metadata": {},
   "outputs": [
    {
     "name": "stderr",
     "output_type": "stream",
     "text": [
      "/Volumes/Macintosh HDD/Tech_Hackathon/venv/lib/python3.7/site-packages/ipykernel_launcher.py:1: DeprecationWarning: Using Nominatim with the default \"geopy/1.20.0\" `user_agent` is strongly discouraged, as it violates Nominatim's ToS https://operations.osmfoundation.org/policies/nominatim/ and may possibly cause 403 and 429 HTTP errors. Please specify a custom `user_agent` with `Nominatim(user_agent=\"my-application\")` or by overriding the default `user_agent`: `geopy.geocoders.options.default_user_agent = \"my-application\"`. In geopy 2.0 this will become an exception.\n",
      "  \"\"\"Entry point for launching an IPython kernel.\n"
     ]
    }
   ],
   "source": [
    "geo = Nominatim()\n",
    "geo_farm = GeocodeFarm()\n",
    "\n",
    "cities=list(clean_df[\"From\"].unique())\n",
    "cities.extend(list(clean_df[\"To\"].unique()))\n",
    "cities = list(set(cities))"
   ]
  },
  {
   "cell_type": "code",
   "execution_count": 10,
   "metadata": {},
   "outputs": [
    {
     "data": {
      "text/plain": [
       "264"
      ]
     },
     "execution_count": 10,
     "metadata": {},
     "output_type": "execute_result"
    }
   ],
   "source": [
    "len(cities)"
   ]
  },
  {
   "cell_type": "code",
   "execution_count": 11,
   "metadata": {},
   "outputs": [],
   "source": [
    "location_details = {}"
   ]
  },
  {
   "cell_type": "code",
   "execution_count": 12,
   "metadata": {},
   "outputs": [],
   "source": [
    "for each_city in cities:\n",
    "    try:\n",
    "        location = geo.geocode(each_city + \", Canada\")\n",
    "    except:\n",
    "        try:\n",
    "            location = geo_farm.geocode(each_city + \", Canada\")\n",
    "        except:\n",
    "            continue\n",
    "    try:\n",
    "        location_details[each_city] = {\n",
    "            \"latitude\": location[1][0],\n",
    "            \"longitude\": location[1][1]\n",
    "        }\n",
    "    except:\n",
    "        continue"
   ]
  },
  {
   "cell_type": "code",
   "execution_count": 19,
   "metadata": {},
   "outputs": [],
   "source": [
    "location_details[\"St Theris Point\"] = {\n",
    "    \"latitude\": 53.8328,\n",
    "    \"longitude\": -94.8497\n",
    "}"
   ]
  },
  {
   "cell_type": "code",
   "execution_count": 20,
   "metadata": {},
   "outputs": [],
   "source": [
    "location_details[\"Ganges Harbor\"] = {\n",
    "    \"latitude\": 48.8556,\n",
    "    \"longitude\": -123.4965\n",
    "}"
   ]
  },
  {
   "cell_type": "code",
   "execution_count": 26,
   "metadata": {},
   "outputs": [],
   "source": [
    "location_details[\"Pender Harbor\"] = {\n",
    "    \"latitude\": 49.6271,\n",
    "    \"longitude\": -124.0359\n",
    "}"
   ]
  },
  {
   "cell_type": "code",
   "execution_count": 27,
   "metadata": {},
   "outputs": [],
   "source": [
    "location_details[\"Points North Landing\"] = {\n",
    "    \"latitude\": 58.2701,\n",
    "    \"longitude\": -104.0814\n",
    "}"
   ]
  },
  {
   "cell_type": "code",
   "execution_count": 24,
   "metadata": {},
   "outputs": [
    {
     "data": {
      "text/plain": [
       "{'latitude': 42.2579, 'longitude': -83.05942}"
      ]
     },
     "execution_count": 24,
     "metadata": {},
     "output_type": "execute_result"
    }
   ],
   "source": [
    "location_details[\"PITTS MEADOW  BC\"]"
   ]
  },
  {
   "cell_type": "code",
   "execution_count": 28,
   "metadata": {},
   "outputs": [],
   "source": [
    "with open(\"../data/city_coordinates.json\", \"w\") as f:\n",
    "    json.dump(location_details, f)"
   ]
  },
  {
   "cell_type": "code",
   "execution_count": 40,
   "metadata": {},
   "outputs": [],
   "source": [
    "def load_coordinates():\n",
    "    # Loading coords from JSON\n",
    "    with open(\"../data/city_coordinates.json\") as f:\n",
    "        coords = json.load(f)\n",
    "    return coords"
   ]
  },
  {
   "cell_type": "code",
   "execution_count": 41,
   "metadata": {},
   "outputs": [],
   "source": [
    "def transform_coordinates(clean_df):\n",
    "    # Loading coordinates\n",
    "    location_details = load_coordinates()\n",
    "    # Origin lat, lon and destination lat, long figured\n",
    "    clean_df[[\"From_lat\",\"From_lon\"]] = clean_df[\"From\"].apply(lambda x: pd.Series([location_details[x][\"latitude\"],location_details[x][\"longitude\"]]))\n",
    "    clean_df[[\"To_lat\",\"To_lon\"]] = clean_df[\"To\"].apply(lambda x: pd.Series([location_details[x][\"latitude\"],location_details[x][\"longitude\"]]))\n",
    "    clean_df.drop([\"From\", \"To\"], axis=1, inplace=True)\n",
    "    return clean_df"
   ]
  },
  {
   "cell_type": "code",
   "execution_count": 42,
   "metadata": {},
   "outputs": [],
   "source": [
    "def convert_to_radians(clean_df, cols=None):\n",
    "    # Converting degree to rads\n",
    "    clean_df[cols] = np.radians(clean_df[cols])\n",
    "    return clean_df"
   ]
  },
  {
   "cell_type": "code",
   "execution_count": 44,
   "metadata": {},
   "outputs": [],
   "source": [
    "clean_df = transform_coordinates(clean_df)\n",
    "clean_df = convert_to_radians(clean_df, cols=[\"From_lat\", \"From_lon\", \"To_lat\", \"To_lon\"])"
   ]
  },
  {
   "cell_type": "code",
   "execution_count": 45,
   "metadata": {},
   "outputs": [
    {
     "data": {
      "text/html": [
       "<div>\n",
       "<style scoped>\n",
       "    .dataframe tbody tr th:only-of-type {\n",
       "        vertical-align: middle;\n",
       "    }\n",
       "\n",
       "    .dataframe tbody tr th {\n",
       "        vertical-align: top;\n",
       "    }\n",
       "\n",
       "    .dataframe thead th {\n",
       "        text-align: right;\n",
       "    }\n",
       "</style>\n",
       "<table border=\"1\" class=\"dataframe\">\n",
       "  <thead>\n",
       "    <tr style=\"text-align: right;\">\n",
       "      <th></th>\n",
       "      <th>Major Class</th>\n",
       "      <th>Month of Travel Date</th>\n",
       "      <th>Sum of Net Tickets</th>\n",
       "      <th>Sum of Total $</th>\n",
       "      <th>From_lat</th>\n",
       "      <th>From_lon</th>\n",
       "      <th>To_lat</th>\n",
       "      <th>To_lon</th>\n",
       "    </tr>\n",
       "  </thead>\n",
       "  <tbody>\n",
       "    <tr>\n",
       "      <th>0</th>\n",
       "      <td>Business Class</td>\n",
       "      <td>Jan</td>\n",
       "      <td>2</td>\n",
       "      <td>6045.62</td>\n",
       "      <td>0.891050</td>\n",
       "      <td>-1.990768</td>\n",
       "      <td>0.792748</td>\n",
       "      <td>-1.321045</td>\n",
       "    </tr>\n",
       "    <tr>\n",
       "      <th>1</th>\n",
       "      <td>Business Class</td>\n",
       "      <td>Jan</td>\n",
       "      <td>1</td>\n",
       "      <td>740.60</td>\n",
       "      <td>0.891050</td>\n",
       "      <td>-1.990768</td>\n",
       "      <td>0.845234</td>\n",
       "      <td>-2.153125</td>\n",
       "    </tr>\n",
       "    <tr>\n",
       "      <th>2</th>\n",
       "      <td>Business Class</td>\n",
       "      <td>Jan</td>\n",
       "      <td>1</td>\n",
       "      <td>3482.85</td>\n",
       "      <td>0.873067</td>\n",
       "      <td>-2.185923</td>\n",
       "      <td>0.792748</td>\n",
       "      <td>-1.321045</td>\n",
       "    </tr>\n",
       "    <tr>\n",
       "      <th>3</th>\n",
       "      <td>Business Class</td>\n",
       "      <td>Jan</td>\n",
       "      <td>1</td>\n",
       "      <td>2807.24</td>\n",
       "      <td>0.806952</td>\n",
       "      <td>-1.101878</td>\n",
       "      <td>0.891050</td>\n",
       "      <td>-1.990768</td>\n",
       "    </tr>\n",
       "    <tr>\n",
       "      <th>4</th>\n",
       "      <td>Business Class</td>\n",
       "      <td>Jan</td>\n",
       "      <td>1</td>\n",
       "      <td>737.35</td>\n",
       "      <td>0.806952</td>\n",
       "      <td>-1.101878</td>\n",
       "      <td>0.792748</td>\n",
       "      <td>-1.321045</td>\n",
       "    </tr>\n",
       "  </tbody>\n",
       "</table>\n",
       "</div>"
      ],
      "text/plain": [
       "      Major Class Month of Travel Date  Sum of Net Tickets  Sum of Total $  \\\n",
       "0  Business Class                  Jan                   2         6045.62   \n",
       "1  Business Class                  Jan                   1          740.60   \n",
       "2  Business Class                  Jan                   1         3482.85   \n",
       "3  Business Class                  Jan                   1         2807.24   \n",
       "4  Business Class                  Jan                   1          737.35   \n",
       "\n",
       "   From_lat  From_lon    To_lat    To_lon  \n",
       "0  0.891050 -1.990768  0.792748 -1.321045  \n",
       "1  0.891050 -1.990768  0.845234 -2.153125  \n",
       "2  0.873067 -2.185923  0.792748 -1.321045  \n",
       "3  0.806952 -1.101878  0.891050 -1.990768  \n",
       "4  0.806952 -1.101878  0.792748 -1.321045  "
      ]
     },
     "execution_count": 45,
     "metadata": {},
     "output_type": "execute_result"
    }
   ],
   "source": [
    "clean_df.head(5)"
   ]
  },
  {
   "cell_type": "markdown",
   "metadata": {},
   "source": [
    "## Feature Engineering: Distance between origin and destination"
   ]
  },
  {
   "cell_type": "code",
   "execution_count": 46,
   "metadata": {},
   "outputs": [],
   "source": [
    "def haversine(clean_df):\n",
    "    # Distance metric to calculate between two coordinate points\n",
    "    from_lat, from_long, to_lat, to_long = clean_df[\"From_lat\"], clean_df[\"From_lon\"], clean_df[\"To_lat\"], clean_df[\"To_lon\"]\n",
    "    radius_of_earth = 6378.1  # In km\n",
    "    lat_delta = to_lat - from_lat\n",
    "    lon_delta = to_long - from_long\n",
    "    d = np.sin(lat_delta*0.5)**2 + np.cos(from_lat) * np.cos(to_lat) * np.sin(lon_delta*0.5)**2\n",
    "    haversine_values = 2 * radius_of_earth * np.arcsin(np.sqrt(d))\n",
    "    return haversine_values"
   ]
  },
  {
   "cell_type": "code",
   "execution_count": 47,
   "metadata": {},
   "outputs": [],
   "source": [
    "def calculate_distance(clean_df):\n",
    "    # Add a distance column to denote distance between origin and destination\n",
    "    clean_df[\"distance\"] = clean_df.apply(haversine, axis=1)\n",
    "    return clean_df"
   ]
  },
  {
   "cell_type": "code",
   "execution_count": 48,
   "metadata": {},
   "outputs": [
    {
     "data": {
      "text/html": [
       "<div>\n",
       "<style scoped>\n",
       "    .dataframe tbody tr th:only-of-type {\n",
       "        vertical-align: middle;\n",
       "    }\n",
       "\n",
       "    .dataframe tbody tr th {\n",
       "        vertical-align: top;\n",
       "    }\n",
       "\n",
       "    .dataframe thead th {\n",
       "        text-align: right;\n",
       "    }\n",
       "</style>\n",
       "<table border=\"1\" class=\"dataframe\">\n",
       "  <thead>\n",
       "    <tr style=\"text-align: right;\">\n",
       "      <th></th>\n",
       "      <th>Major Class</th>\n",
       "      <th>Month of Travel Date</th>\n",
       "      <th>Sum of Net Tickets</th>\n",
       "      <th>Sum of Total $</th>\n",
       "      <th>From_lat</th>\n",
       "      <th>From_lon</th>\n",
       "      <th>To_lat</th>\n",
       "      <th>To_lon</th>\n",
       "      <th>distance</th>\n",
       "    </tr>\n",
       "  </thead>\n",
       "  <tbody>\n",
       "    <tr>\n",
       "      <th>0</th>\n",
       "      <td>Business Class</td>\n",
       "      <td>Jan</td>\n",
       "      <td>2</td>\n",
       "      <td>6045.62</td>\n",
       "      <td>0.891050</td>\n",
       "      <td>-1.990768</td>\n",
       "      <td>0.792748</td>\n",
       "      <td>-1.321045</td>\n",
       "      <td>2878.608298</td>\n",
       "    </tr>\n",
       "    <tr>\n",
       "      <th>1</th>\n",
       "      <td>Business Class</td>\n",
       "      <td>Jan</td>\n",
       "      <td>1</td>\n",
       "      <td>740.60</td>\n",
       "      <td>0.891050</td>\n",
       "      <td>-1.990768</td>\n",
       "      <td>0.845234</td>\n",
       "      <td>-2.153125</td>\n",
       "      <td>729.555861</td>\n",
       "    </tr>\n",
       "    <tr>\n",
       "      <th>2</th>\n",
       "      <td>Business Class</td>\n",
       "      <td>Jan</td>\n",
       "      <td>1</td>\n",
       "      <td>3482.85</td>\n",
       "      <td>0.873067</td>\n",
       "      <td>-2.185923</td>\n",
       "      <td>0.792748</td>\n",
       "      <td>-1.321045</td>\n",
       "      <td>3677.013367</td>\n",
       "    </tr>\n",
       "    <tr>\n",
       "      <th>3</th>\n",
       "      <td>Business Class</td>\n",
       "      <td>Jan</td>\n",
       "      <td>1</td>\n",
       "      <td>2807.24</td>\n",
       "      <td>0.806952</td>\n",
       "      <td>-1.101878</td>\n",
       "      <td>0.891050</td>\n",
       "      <td>-1.990768</td>\n",
       "      <td>3708.065355</td>\n",
       "    </tr>\n",
       "    <tr>\n",
       "      <th>4</th>\n",
       "      <td>Business Class</td>\n",
       "      <td>Jan</td>\n",
       "      <td>1</td>\n",
       "      <td>737.35</td>\n",
       "      <td>0.806952</td>\n",
       "      <td>-1.101878</td>\n",
       "      <td>0.792748</td>\n",
       "      <td>-1.321045</td>\n",
       "      <td>977.226751</td>\n",
       "    </tr>\n",
       "  </tbody>\n",
       "</table>\n",
       "</div>"
      ],
      "text/plain": [
       "      Major Class Month of Travel Date  Sum of Net Tickets  Sum of Total $  \\\n",
       "0  Business Class                  Jan                   2         6045.62   \n",
       "1  Business Class                  Jan                   1          740.60   \n",
       "2  Business Class                  Jan                   1         3482.85   \n",
       "3  Business Class                  Jan                   1         2807.24   \n",
       "4  Business Class                  Jan                   1          737.35   \n",
       "\n",
       "   From_lat  From_lon    To_lat    To_lon     distance  \n",
       "0  0.891050 -1.990768  0.792748 -1.321045  2878.608298  \n",
       "1  0.891050 -1.990768  0.845234 -2.153125   729.555861  \n",
       "2  0.873067 -2.185923  0.792748 -1.321045  3677.013367  \n",
       "3  0.806952 -1.101878  0.891050 -1.990768  3708.065355  \n",
       "4  0.806952 -1.101878  0.792748 -1.321045   977.226751  "
      ]
     },
     "execution_count": 48,
     "metadata": {},
     "output_type": "execute_result"
    }
   ],
   "source": [
    "clean_df = calculate_distance(clean_df)\n",
    "clean_df.head(5)"
   ]
  },
  {
   "cell_type": "markdown",
   "metadata": {},
   "source": [
    "## Major Class"
   ]
  },
  {
   "cell_type": "code",
   "execution_count": 49,
   "metadata": {},
   "outputs": [
    {
     "data": {
      "text/plain": [
       "Major Class\n",
       "Business Class     1845.703896\n",
       "Economy             486.790989\n",
       "First Class         235.342727\n",
       "Premium Economy    1511.283000\n",
       "dtype: float64"
      ]
     },
     "execution_count": 49,
     "metadata": {},
     "output_type": "execute_result"
    }
   ],
   "source": [
    "clean_df.groupby([\"Major Class\"])[[\"Sum of Net Tickets\", \"Sum of Total $\"]].sum()['Sum of Total $']/clean_df.groupby([\"Major Class\"])[[\"Sum of Net Tickets\", \"Sum of Total $\"]].sum()['Sum of Net Tickets']"
   ]
  },
  {
   "cell_type": "markdown",
   "metadata": {},
   "source": [
    "### Inference:\n",
    "- Although First Class gives a very low mean price, it is logically the most expensive way to travel via air.\n",
    "- Upon closer examination, it was seen that the first class records observed in the data was for a very short distance.\n",
    "- Thus, as per logic, it is being label encoded with First class ranking the highest and Economy ranking the lowest.\n",
    "- This might give a slightly lower accuracy for our dataset but is more interpretable."
   ]
  },
  {
   "cell_type": "code",
   "execution_count": 50,
   "metadata": {},
   "outputs": [],
   "source": [
    "def dump_fe_pkl(model, col_name):\n",
    "    with open(f\"../fe_models/fe_{col_name}.pkl\", \"wb\") as f:\n",
    "        pickle.dump(model, f)"
   ]
  },
  {
   "cell_type": "code",
   "execution_count": 51,
   "metadata": {},
   "outputs": [],
   "source": [
    "def load_fe_pkl(col_name):\n",
    "    with open(f\"../fe_models/fe_{col_name}.pkl\", \"rb\") as f:\n",
    "        model=pickle.load(f)\n",
    "    return model"
   ]
  },
  {
   "cell_type": "code",
   "execution_count": 52,
   "metadata": {},
   "outputs": [],
   "source": [
    "def label_encode(clean_df, col_name=None, use_pre_trained=False):\n",
    "    if not use_pre_trained:\n",
    "        model = LabelEncoder()\n",
    "        model.fit(clean_df[col_name])\n",
    "        dump_fe_pkl(model, col_name)\n",
    "    model=load_fe_pkl(col_name)\n",
    "    clean_df[col_name] = model.transform(clean_df[col_name])\n",
    "    return clean_df"
   ]
  },
  {
   "cell_type": "code",
   "execution_count": 53,
   "metadata": {},
   "outputs": [],
   "source": [
    "def custom_label_encode(clean_df, mappings):\n",
    "    clean_df = clean_df.replace(mappings)\n",
    "    return clean_df"
   ]
  },
  {
   "cell_type": "code",
   "execution_count": 54,
   "metadata": {},
   "outputs": [],
   "source": [
    "mappings = {\n",
    "    \"Major Class\":{\n",
    "        \"Economy\": 1,\n",
    "        \"Premium Economy\": 2,\n",
    "        \"Business Class\": 3,\n",
    "        \"First Class\": 4\n",
    "    }\n",
    "}\n",
    "clean_df = custom_label_encode(clean_df, mappings)"
   ]
  },
  {
   "cell_type": "code",
   "execution_count": 55,
   "metadata": {},
   "outputs": [
    {
     "data": {
      "text/html": [
       "<div>\n",
       "<style scoped>\n",
       "    .dataframe tbody tr th:only-of-type {\n",
       "        vertical-align: middle;\n",
       "    }\n",
       "\n",
       "    .dataframe tbody tr th {\n",
       "        vertical-align: top;\n",
       "    }\n",
       "\n",
       "    .dataframe thead th {\n",
       "        text-align: right;\n",
       "    }\n",
       "</style>\n",
       "<table border=\"1\" class=\"dataframe\">\n",
       "  <thead>\n",
       "    <tr style=\"text-align: right;\">\n",
       "      <th></th>\n",
       "      <th>Major Class</th>\n",
       "      <th>Month of Travel Date</th>\n",
       "      <th>Sum of Net Tickets</th>\n",
       "      <th>Sum of Total $</th>\n",
       "      <th>From_lat</th>\n",
       "      <th>From_lon</th>\n",
       "      <th>To_lat</th>\n",
       "      <th>To_lon</th>\n",
       "      <th>distance</th>\n",
       "    </tr>\n",
       "  </thead>\n",
       "  <tbody>\n",
       "    <tr>\n",
       "      <th>0</th>\n",
       "      <td>3</td>\n",
       "      <td>Jan</td>\n",
       "      <td>2</td>\n",
       "      <td>6045.62</td>\n",
       "      <td>0.891050</td>\n",
       "      <td>-1.990768</td>\n",
       "      <td>0.792748</td>\n",
       "      <td>-1.321045</td>\n",
       "      <td>2878.608298</td>\n",
       "    </tr>\n",
       "    <tr>\n",
       "      <th>1</th>\n",
       "      <td>3</td>\n",
       "      <td>Jan</td>\n",
       "      <td>1</td>\n",
       "      <td>740.60</td>\n",
       "      <td>0.891050</td>\n",
       "      <td>-1.990768</td>\n",
       "      <td>0.845234</td>\n",
       "      <td>-2.153125</td>\n",
       "      <td>729.555861</td>\n",
       "    </tr>\n",
       "    <tr>\n",
       "      <th>2</th>\n",
       "      <td>3</td>\n",
       "      <td>Jan</td>\n",
       "      <td>1</td>\n",
       "      <td>3482.85</td>\n",
       "      <td>0.873067</td>\n",
       "      <td>-2.185923</td>\n",
       "      <td>0.792748</td>\n",
       "      <td>-1.321045</td>\n",
       "      <td>3677.013367</td>\n",
       "    </tr>\n",
       "    <tr>\n",
       "      <th>3</th>\n",
       "      <td>3</td>\n",
       "      <td>Jan</td>\n",
       "      <td>1</td>\n",
       "      <td>2807.24</td>\n",
       "      <td>0.806952</td>\n",
       "      <td>-1.101878</td>\n",
       "      <td>0.891050</td>\n",
       "      <td>-1.990768</td>\n",
       "      <td>3708.065355</td>\n",
       "    </tr>\n",
       "    <tr>\n",
       "      <th>4</th>\n",
       "      <td>3</td>\n",
       "      <td>Jan</td>\n",
       "      <td>1</td>\n",
       "      <td>737.35</td>\n",
       "      <td>0.806952</td>\n",
       "      <td>-1.101878</td>\n",
       "      <td>0.792748</td>\n",
       "      <td>-1.321045</td>\n",
       "      <td>977.226751</td>\n",
       "    </tr>\n",
       "  </tbody>\n",
       "</table>\n",
       "</div>"
      ],
      "text/plain": [
       "   Major Class Month of Travel Date  Sum of Net Tickets  Sum of Total $  \\\n",
       "0            3                  Jan                   2         6045.62   \n",
       "1            3                  Jan                   1          740.60   \n",
       "2            3                  Jan                   1         3482.85   \n",
       "3            3                  Jan                   1         2807.24   \n",
       "4            3                  Jan                   1          737.35   \n",
       "\n",
       "   From_lat  From_lon    To_lat    To_lon     distance  \n",
       "0  0.891050 -1.990768  0.792748 -1.321045  2878.608298  \n",
       "1  0.891050 -1.990768  0.845234 -2.153125   729.555861  \n",
       "2  0.873067 -2.185923  0.792748 -1.321045  3677.013367  \n",
       "3  0.806952 -1.101878  0.891050 -1.990768  3708.065355  \n",
       "4  0.806952 -1.101878  0.792748 -1.321045   977.226751  "
      ]
     },
     "execution_count": 55,
     "metadata": {},
     "output_type": "execute_result"
    }
   ],
   "source": [
    "clean_df.head(5)"
   ]
  },
  {
   "cell_type": "code",
   "execution_count": 56,
   "metadata": {},
   "outputs": [],
   "source": [
    "def reorder_cols(clean_df, col_order=[]):\n",
    "    return clean_df[col_order]"
   ]
  },
  {
   "cell_type": "code",
   "execution_count": 57,
   "metadata": {
    "scrolled": true
   },
   "outputs": [
    {
     "data": {
      "text/html": [
       "<div>\n",
       "<style scoped>\n",
       "    .dataframe tbody tr th:only-of-type {\n",
       "        vertical-align: middle;\n",
       "    }\n",
       "\n",
       "    .dataframe tbody tr th {\n",
       "        vertical-align: top;\n",
       "    }\n",
       "\n",
       "    .dataframe thead th {\n",
       "        text-align: right;\n",
       "    }\n",
       "</style>\n",
       "<table border=\"1\" class=\"dataframe\">\n",
       "  <thead>\n",
       "    <tr style=\"text-align: right;\">\n",
       "      <th></th>\n",
       "      <th>Major Class</th>\n",
       "      <th>Month of Travel Date</th>\n",
       "      <th>Sum of Net Tickets</th>\n",
       "      <th>From_lat</th>\n",
       "      <th>From_lon</th>\n",
       "      <th>To_lat</th>\n",
       "      <th>To_lon</th>\n",
       "      <th>distance</th>\n",
       "      <th>Sum of Total $</th>\n",
       "    </tr>\n",
       "  </thead>\n",
       "  <tbody>\n",
       "    <tr>\n",
       "      <th>0</th>\n",
       "      <td>3</td>\n",
       "      <td>Jan</td>\n",
       "      <td>2</td>\n",
       "      <td>0.891050</td>\n",
       "      <td>-1.990768</td>\n",
       "      <td>0.792748</td>\n",
       "      <td>-1.321045</td>\n",
       "      <td>2878.608298</td>\n",
       "      <td>6045.62</td>\n",
       "    </tr>\n",
       "    <tr>\n",
       "      <th>1</th>\n",
       "      <td>3</td>\n",
       "      <td>Jan</td>\n",
       "      <td>1</td>\n",
       "      <td>0.891050</td>\n",
       "      <td>-1.990768</td>\n",
       "      <td>0.845234</td>\n",
       "      <td>-2.153125</td>\n",
       "      <td>729.555861</td>\n",
       "      <td>740.60</td>\n",
       "    </tr>\n",
       "    <tr>\n",
       "      <th>2</th>\n",
       "      <td>3</td>\n",
       "      <td>Jan</td>\n",
       "      <td>1</td>\n",
       "      <td>0.873067</td>\n",
       "      <td>-2.185923</td>\n",
       "      <td>0.792748</td>\n",
       "      <td>-1.321045</td>\n",
       "      <td>3677.013367</td>\n",
       "      <td>3482.85</td>\n",
       "    </tr>\n",
       "    <tr>\n",
       "      <th>3</th>\n",
       "      <td>3</td>\n",
       "      <td>Jan</td>\n",
       "      <td>1</td>\n",
       "      <td>0.806952</td>\n",
       "      <td>-1.101878</td>\n",
       "      <td>0.891050</td>\n",
       "      <td>-1.990768</td>\n",
       "      <td>3708.065355</td>\n",
       "      <td>2807.24</td>\n",
       "    </tr>\n",
       "    <tr>\n",
       "      <th>4</th>\n",
       "      <td>3</td>\n",
       "      <td>Jan</td>\n",
       "      <td>1</td>\n",
       "      <td>0.806952</td>\n",
       "      <td>-1.101878</td>\n",
       "      <td>0.792748</td>\n",
       "      <td>-1.321045</td>\n",
       "      <td>977.226751</td>\n",
       "      <td>737.35</td>\n",
       "    </tr>\n",
       "  </tbody>\n",
       "</table>\n",
       "</div>"
      ],
      "text/plain": [
       "   Major Class Month of Travel Date  Sum of Net Tickets  From_lat  From_lon  \\\n",
       "0            3                  Jan                   2  0.891050 -1.990768   \n",
       "1            3                  Jan                   1  0.891050 -1.990768   \n",
       "2            3                  Jan                   1  0.873067 -2.185923   \n",
       "3            3                  Jan                   1  0.806952 -1.101878   \n",
       "4            3                  Jan                   1  0.806952 -1.101878   \n",
       "\n",
       "     To_lat    To_lon     distance  Sum of Total $  \n",
       "0  0.792748 -1.321045  2878.608298         6045.62  \n",
       "1  0.845234 -2.153125   729.555861          740.60  \n",
       "2  0.792748 -1.321045  3677.013367         3482.85  \n",
       "3  0.891050 -1.990768  3708.065355         2807.24  \n",
       "4  0.792748 -1.321045   977.226751          737.35  "
      ]
     },
     "execution_count": 57,
     "metadata": {},
     "output_type": "execute_result"
    }
   ],
   "source": [
    "clean_df = reorder_cols(clean_df, col_order=['Major Class', 'Month of Travel Date', 'Sum of Net Tickets', 'From_lat', 'From_lon', 'To_lat', 'To_lon',\n",
    "       'distance', 'Sum of Total $'])\n",
    "clean_df.head(5)"
   ]
  },
  {
   "cell_type": "markdown",
   "metadata": {},
   "source": [
    "## Month of Travel Date"
   ]
  },
  {
   "cell_type": "code",
   "execution_count": null,
   "metadata": {},
   "outputs": [],
   "source": [
    "clean_df.groupby([\"Month of Travel Date\"])[[\"Sum of Net Tickets\", \"Sum of Total $\"]].describe()"
   ]
  },
  {
   "cell_type": "markdown",
   "metadata": {},
   "source": [
    "### Inference:\n",
    "- One-hot encode months because there is no significant rise in price between the months.\n",
    "- This was determined by diving the mean of Sum of Total with the Sum of Net Tickets for every month."
   ]
  },
  {
   "cell_type": "code",
   "execution_count": 58,
   "metadata": {},
   "outputs": [],
   "source": [
    "def compute_avg_price(clean_df):\n",
    "    clean_df[\"price\"] = clean_df[\"Sum of Total $\"]/clean_df[\"Sum of Net Tickets\"]\n",
    "    clean_df.drop([\"Sum of Total $\", \"Sum of Net Tickets\"], axis=1, inplace=True)\n",
    "    return clean_df"
   ]
  },
  {
   "cell_type": "code",
   "execution_count": 59,
   "metadata": {},
   "outputs": [],
   "source": [
    "clean_df = compute_avg_price(clean_df)"
   ]
  },
  {
   "cell_type": "code",
   "execution_count": 61,
   "metadata": {},
   "outputs": [],
   "source": [
    "def ohe_encode(clean_df, categories=None, use_pre_trained=False):\n",
    "    if not use_pre_trained:\n",
    "        model = make_column_transformer((categories, OneHotEncoder()), remainder=\"passthrough\")\n",
    "        clean_df_data, clean_df_labels = model.fit_transform(clean_df.iloc[:, :-1]), np.array(clean_df.iloc[:, -1])\n",
    "        dump_fe_pkl(model, \"ohe_model\")\n",
    "        return clean_df_data, clean_df_labels\n",
    "    model=load_fe_pkl(\"ohe_model\")\n",
    "    clean_df = model.transform(clean_df)\n",
    "    return clean_df"
   ]
  },
  {
   "cell_type": "markdown",
   "metadata": {},
   "source": [
    "### Also, splitting the encoded data into features and targets"
   ]
  },
  {
   "cell_type": "code",
   "execution_count": 62,
   "metadata": {
    "scrolled": true
   },
   "outputs": [
    {
     "name": "stderr",
     "output_type": "stream",
     "text": [
      "/Volumes/Macintosh HDD/Tech_Hackathon/venv/lib/python3.7/site-packages/sklearn/compose/_column_transformer.py:778: DeprecationWarning: `make_column_transformer` now expects (transformer, columns) as input tuples instead of (columns, transformer). This has been introduced in v0.20.1. `make_column_transformer` will stop accepting the deprecated (columns, transformer) order in v0.22.\n",
      "  warnings.warn(message, DeprecationWarning)\n"
     ]
    }
   ],
   "source": [
    "X, y = ohe_encode(clean_df, categories=[\"Month of Travel Date\"])"
   ]
  },
  {
   "cell_type": "markdown",
   "metadata": {},
   "source": [
    "## Cross Validation for model selection"
   ]
  },
  {
   "cell_type": "code",
   "execution_count": 65,
   "metadata": {},
   "outputs": [
    {
     "name": "stdout",
     "output_type": "stream",
     "text": [
      "Mean absolute error with Linear Regression is: [-525.44973477 -380.38618915 -333.4080112  -329.64843716 -331.48375537\n",
      " -304.30249959 -333.78092374 -351.60640486 -330.50286717 -301.9693914 ]\n",
      "\n",
      "Mean absolute error with Random Forest Regressor is: [-491.85513025 -262.07968083 -260.71133562 -241.24452713 -259.60450712\n",
      " -242.69164273 -250.25857782 -248.5783139  -248.31922422 -232.48985057]\n",
      "\n",
      "Mean absolute error with XGBoost Regressor is: [-545.88526887 -306.41334643 -290.2479453  -286.53016615 -282.98878098\n",
      " -283.28770994 -286.74360486 -284.80685806 -287.16324272 -277.83623674]\n"
     ]
    }
   ],
   "source": [
    "# Use cross validation to find a model that gives the least error (using mean absolute error)\n",
    "\n",
    "# Linear Regression on the model\n",
    "lin_reg_cv_score = cross_val_score(LinearRegression(), X, y, scoring=\"neg_mean_absolute_error\", cv=10, n_jobs=-1)\n",
    "print(f\"Mean absolute error with Linear Regression is: {lin_reg_cv_score}\\n\")\n",
    "\n",
    "# Random Forest Regressor\n",
    "forest_reg_cv_score = cross_val_score(RandomForestRegressor(), X, y, scoring=\"neg_mean_absolute_error\", cv=10, n_jobs=-1)\n",
    "print(f\"Mean absolute error with Random Forest Regressor is: {forest_reg_cv_score}\\n\")\n",
    "\n",
    "# XGBoost Regressor\n",
    "xgb_reg_cv_score = cross_val_score(XGBRegressor(), X, y, scoring=\"neg_mean_absolute_error\", cv=10, n_jobs=-1)\n",
    "print(f\"Mean absolute error with XGBoost Regressor is: {xgb_reg_cv_score}\")"
   ]
  },
  {
   "cell_type": "markdown",
   "metadata": {},
   "source": [
    "## GRIDSEARCH for Hyperparameter Tuning"
   ]
  },
  {
   "cell_type": "code",
   "execution_count": null,
   "metadata": {},
   "outputs": [],
   "source": [
    "# Since Random Forest Regressor gives the lowest error among all models, we will use\n",
    "# GridSearchCV to tune the hyper-parameters for RF Regressor and minimize the error\n",
    "\n",
    "print(datetime.now())\n",
    "\n",
    "rf_parameters = {'n_estimators':[120, 150, 200],\n",
    "                 'max_depth':[20, 30, 50], 'min_samples_leaf':[1, 3, 5]}\n",
    "rf_gsc = GridSearchCV(RandomForestRegressor(), param_grid=rf_parameters, scoring=\"neg_mean_squared_error\", cv=5, n_jobs=-1, verbose=True)\n",
    "grid_search_result = rf_gsc.fit(X, y)\n",
    "print(f\"The best set of hyper-parameters are: {grid_search_result.best_params_}\")\n",
    "\n",
    "print(datetime.now())"
   ]
  },
  {
   "cell_type": "code",
   "execution_count": null,
   "metadata": {},
   "outputs": [],
   "source": [
    "with open(\"../trained_models/model.pkl\", \"wb\") as f:\n",
    "    pickle.dump(grid_search_result.best_estimator_, f)"
   ]
  },
  {
   "cell_type": "markdown",
   "metadata": {},
   "source": [
    "## Function to preprocess data from front-end"
   ]
  },
  {
   "cell_type": "code",
   "execution_count": 66,
   "metadata": {},
   "outputs": [],
   "source": [
    "def preprocessing(clean_df):\n",
    "    # Transforming \"From\" and \"To\" destinations to coordinates\n",
    "    clean_df = transform_coordinates(clean_df)\n",
    "    # Transforming coordinates to radians\n",
    "    clean_df = convert_to_radians(clean_df, cols=[\"From_lat\", \"From_lon\", \"To_lat\", \"To_lon\"])\n",
    "    # Computing haversine between origin and destination\n",
    "    clean_df = calculate_distance(clean_df)\n",
    "    # Transforming \"Major Class\" using Label Encoder\n",
    "    clean_df = custom_label_encode(clean_df, mappings)\n",
    "    # Transforming \"Month of Travel Date\" using one-hot encoder\n",
    "    clean_arr = ohe_encode(clean_df, categories=[\"Month of Travel Date\"], use_pre_trained=True)\n",
    "    return clean_arr"
   ]
  },
  {
   "cell_type": "code",
   "execution_count": 67,
   "metadata": {},
   "outputs": [],
   "source": [
    "sample = pd.DataFrame([[\"Vancouver\",\"Halifax\",\"Economy\",\"Dec\"]], columns=[\"From\", \"To\", \"Major Class\", \"Month of Travel Date\"])\n",
    "sample=preprocessing(sample)"
   ]
  },
  {
   "cell_type": "code",
   "execution_count": 68,
   "metadata": {},
   "outputs": [
    {
     "data": {
      "text/plain": [
       "array([[0.0, 0.0, 1.0, 0.0, 0.0, 0.0, 0.0, 0.0, 0.0, 0.0, 0.0, 0.0, 1,\n",
       "        0.8597644157848011, -2.1487438332502213, 0.7792653905652056,\n",
       "        -1.1097841628192082, 4434.102538202029]], dtype=object)"
      ]
     },
     "execution_count": 68,
     "metadata": {},
     "output_type": "execute_result"
    }
   ],
   "source": [
    "sample"
   ]
  }
 ],
 "metadata": {
  "kernelspec": {
   "display_name": "Python 3",
   "language": "python",
   "name": "python3"
  },
  "language_info": {
   "codemirror_mode": {
    "name": "ipython",
    "version": 3
   },
   "file_extension": ".py",
   "mimetype": "text/x-python",
   "name": "python",
   "nbconvert_exporter": "python",
   "pygments_lexer": "ipython3",
   "version": "3.7.2"
  }
 },
 "nbformat": 4,
 "nbformat_minor": 2
}
