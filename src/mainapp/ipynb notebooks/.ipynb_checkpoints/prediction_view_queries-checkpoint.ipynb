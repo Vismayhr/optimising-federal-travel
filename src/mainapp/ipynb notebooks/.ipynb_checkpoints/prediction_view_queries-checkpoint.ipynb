{
 "cells": [
  {
   "cell_type": "code",
   "execution_count": 1,
   "metadata": {},
   "outputs": [],
   "source": [
    "import pandas as pd\n",
    "import numpy as np\n",
    "import pickle"
   ]
  },
  {
   "cell_type": "code",
   "execution_count": 6,
   "metadata": {},
   "outputs": [
    {
     "data": {
      "text/html": [
       "<div>\n",
       "<style scoped>\n",
       "    .dataframe tbody tr th:only-of-type {\n",
       "        vertical-align: middle;\n",
       "    }\n",
       "\n",
       "    .dataframe tbody tr th {\n",
       "        vertical-align: top;\n",
       "    }\n",
       "\n",
       "    .dataframe thead th {\n",
       "        text-align: right;\n",
       "    }\n",
       "</style>\n",
       "<table border=\"1\" class=\"dataframe\">\n",
       "  <thead>\n",
       "    <tr style=\"text-align: right;\">\n",
       "      <th></th>\n",
       "      <th>Major Class</th>\n",
       "      <th>Month of Travel Date</th>\n",
       "      <th>From</th>\n",
       "      <th>To</th>\n",
       "      <th>Sum of Net Tickets</th>\n",
       "      <th>Sum of Total $</th>\n",
       "    </tr>\n",
       "  </thead>\n",
       "  <tbody>\n",
       "    <tr>\n",
       "      <td>0</td>\n",
       "      <td>Business Class</td>\n",
       "      <td>Jan</td>\n",
       "      <td>Calgary</td>\n",
       "      <td>Ottawa</td>\n",
       "      <td>2</td>\n",
       "      <td>6045.62</td>\n",
       "    </tr>\n",
       "    <tr>\n",
       "      <td>1</td>\n",
       "      <td>Business Class</td>\n",
       "      <td>Jan</td>\n",
       "      <td>Calgary</td>\n",
       "      <td>Victoria</td>\n",
       "      <td>1</td>\n",
       "      <td>740.60</td>\n",
       "    </tr>\n",
       "    <tr>\n",
       "      <td>2</td>\n",
       "      <td>Business Class</td>\n",
       "      <td>Jan</td>\n",
       "      <td>Campbell River</td>\n",
       "      <td>Ottawa</td>\n",
       "      <td>1</td>\n",
       "      <td>3482.85</td>\n",
       "    </tr>\n",
       "    <tr>\n",
       "      <td>3</td>\n",
       "      <td>Business Class</td>\n",
       "      <td>Jan</td>\n",
       "      <td>Charlottetown</td>\n",
       "      <td>Calgary</td>\n",
       "      <td>1</td>\n",
       "      <td>2807.24</td>\n",
       "    </tr>\n",
       "    <tr>\n",
       "      <td>4</td>\n",
       "      <td>Business Class</td>\n",
       "      <td>Jan</td>\n",
       "      <td>Charlottetown</td>\n",
       "      <td>Ottawa</td>\n",
       "      <td>1</td>\n",
       "      <td>737.35</td>\n",
       "    </tr>\n",
       "  </tbody>\n",
       "</table>\n",
       "</div>"
      ],
      "text/plain": [
       "      Major Class Month of Travel Date            From        To  \\\n",
       "0  Business Class                  Jan         Calgary    Ottawa   \n",
       "1  Business Class                  Jan         Calgary  Victoria   \n",
       "2  Business Class                  Jan  Campbell River    Ottawa   \n",
       "3  Business Class                  Jan   Charlottetown   Calgary   \n",
       "4  Business Class                  Jan   Charlottetown    Ottawa   \n",
       "\n",
       "   Sum of Net Tickets  Sum of Total $  \n",
       "0                   2         6045.62  \n",
       "1                   1          740.60  \n",
       "2                   1         3482.85  \n",
       "3                   1         2807.24  \n",
       "4                   1          737.35  "
      ]
     },
     "execution_count": 6,
     "metadata": {},
     "output_type": "execute_result"
    }
   ],
   "source": [
    "dataset_path = \"./../data/cleaned_government_data.csv\"\n",
    "query_extra_details_base_path = \"./../data/prediction_page_queries/\"\n",
    "\n",
    "df = pd.read_csv(dataset_path, header=0)\n",
    "df.head()"
   ]
  },
  {
   "cell_type": "code",
   "execution_count": 3,
   "metadata": {},
   "outputs": [],
   "source": [
    "all_months = np.unique(df[\"Month of Travel Date\"]).tolist()"
   ]
  },
  {
   "cell_type": "code",
   "execution_count": 4,
   "metadata": {},
   "outputs": [
    {
     "name": "stdout",
     "output_type": "stream",
     "text": [
      "There are 254 sources\n",
      "There are 254 destinations\n"
     ]
    },
    {
     "data": {
      "text/plain": [
       "267"
      ]
     },
     "execution_count": 4,
     "metadata": {},
     "output_type": "execute_result"
    }
   ],
   "source": [
    "unique_sources = np.unique(df['From']).tolist()\n",
    "unique_destinations = np.unique(df['To']).tolist()\n",
    "print(f\"There are {len(unique_sources)} sources\")\n",
    "print(f\"There are {len(unique_destinations)} destinations\")\n",
    "\n",
    "all_cities = set(unique_sources + unique_destinations)\n",
    "len(all_cities)"
   ]
  },
  {
   "cell_type": "code",
   "execution_count": 5,
   "metadata": {},
   "outputs": [
    {
     "data": {
      "text/plain": [
       "{'Calgary',\n",
       " 'Edmonton',\n",
       " 'Fredericton',\n",
       " 'Halifax',\n",
       " 'Montreal',\n",
       " 'Ottawa',\n",
       " 'Quebec',\n",
       " 'Regina',\n",
       " 'Saskatoon',\n",
       " \"St John's\",\n",
       " 'Thunder Bay',\n",
       " 'Toronto',\n",
       " 'Vancouver',\n",
       " 'Victoria',\n",
       " 'Winnipeg',\n",
       " 'Yellowknife'}"
      ]
     },
     "execution_count": 5,
     "metadata": {},
     "output_type": "execute_result"
    }
   ],
   "source": [
    "# Frequent destination cities\n",
    "destination_cities_df = pd.DataFrame(columns = ['dest_city', 'count'])\n",
    "for dest in unique_destinations:\n",
    "    count = int(df[df['To']==dest].shape[0])\n",
    "    row = destination_cities_df.shape[0]\n",
    "    destination_cities_df.loc[row] = [dest, count]\n",
    "    \n",
    "frequent_dest_cities = destination_cities_df.sort_values(by=['count'], ascending=False).head(15)\n",
    "frequent_dest_cities = frequent_dest_cities.reset_index()\n",
    "frequent_dest_cities\n",
    "destination_cities = frequent_dest_cities['dest_city'].tolist()\n",
    "\n",
    "# Frequent source cities\n",
    "source_cities_df = pd.DataFrame(columns = ['source_city', 'count'])\n",
    "for source in unique_sources:\n",
    "    count = int(df[df['From']==source].shape[0])\n",
    "    row = source_cities_df.shape[0]\n",
    "    source_cities_df.loc[row] = [source, count]\n",
    "    \n",
    "frequent_source_cities = source_cities_df.sort_values(by=['count'], ascending=False).head(15)\n",
    "frequent_source_cities = frequent_source_cities.reset_index()\n",
    "frequent_source_cities\n",
    "source_cities = frequent_source_cities['source_city'].tolist()\n",
    "\n",
    "important_cities = source_cities + destination_cities\n",
    "unique_imp_cities = set(important_cities)\n",
    "unique_imp_cities"
   ]
  },
  {
   "cell_type": "code",
   "execution_count": null,
   "metadata": {},
   "outputs": [],
   "source": [
    "data = {}\n",
    "for imp_city in unique_imp_cities:\n",
    "    data[imp_city] = {}\n",
    "    for month in all_months:\n",
    "        query_result = df[(df['To']==imp_city) & (df['Month of Travel Date']==month)]\n",
    "        total_passengers = round(np.sum(query_result['Sum of Net Tickets']))\n",
    "        data[imp_city][month] = total_passengers\n",
    "        \n",
    "with open(query_extra_details_base_path + \"passengers_count_trend.sav\", 'wb') as f:\n",
    "    pickle.dump(data, f)"
   ]
  }
 ],
 "metadata": {
  "kernelspec": {
   "display_name": "Python 3",
   "language": "python",
   "name": "python3"
  },
  "language_info": {
   "codemirror_mode": {
    "name": "ipython",
    "version": 3
   },
   "file_extension": ".py",
   "mimetype": "text/x-python",
   "name": "python",
   "nbconvert_exporter": "python",
   "pygments_lexer": "ipython3",
   "version": "3.7.3"
  }
 },
 "nbformat": 4,
 "nbformat_minor": 2
}
