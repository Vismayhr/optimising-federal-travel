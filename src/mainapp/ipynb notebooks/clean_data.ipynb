{
 "cells": [
  {
   "cell_type": "code",
   "execution_count": 2,
   "metadata": {},
   "outputs": [],
   "source": [
    "import pandas as pd\n",
    "raw_df = pd.read_excel(\"../data/government_dataset.xlsx\", skiprows=2)"
   ]
  },
  {
   "cell_type": "code",
   "execution_count": 3,
   "metadata": {},
   "outputs": [
    {
     "data": {
      "text/html": [
       "<div>\n",
       "<style scoped>\n",
       "    .dataframe tbody tr th:only-of-type {\n",
       "        vertical-align: middle;\n",
       "    }\n",
       "\n",
       "    .dataframe tbody tr th {\n",
       "        vertical-align: top;\n",
       "    }\n",
       "\n",
       "    .dataframe thead th {\n",
       "        text-align: right;\n",
       "    }\n",
       "</style>\n",
       "<table border=\"1\" class=\"dataframe\">\n",
       "  <thead>\n",
       "    <tr style=\"text-align: right;\">\n",
       "      <th></th>\n",
       "      <th>Major Class</th>\n",
       "      <th>Month of Travel Date</th>\n",
       "      <th>From</th>\n",
       "      <th>To</th>\n",
       "      <th>Sum of Net Tickets</th>\n",
       "      <th>Sum of Total $</th>\n",
       "    </tr>\n",
       "  </thead>\n",
       "  <tbody>\n",
       "    <tr>\n",
       "      <th>0</th>\n",
       "      <td>Business Class</td>\n",
       "      <td>Jan</td>\n",
       "      <td>Calgary</td>\n",
       "      <td>Ottawa</td>\n",
       "      <td>2</td>\n",
       "      <td>6045.62</td>\n",
       "    </tr>\n",
       "    <tr>\n",
       "      <th>1</th>\n",
       "      <td>Business Class</td>\n",
       "      <td>Jan</td>\n",
       "      <td>Calgary</td>\n",
       "      <td>Victoria</td>\n",
       "      <td>1</td>\n",
       "      <td>740.60</td>\n",
       "    </tr>\n",
       "    <tr>\n",
       "      <th>2</th>\n",
       "      <td>Business Class</td>\n",
       "      <td>Jan</td>\n",
       "      <td>Calgary</td>\n",
       "      <td>Winnipeg</td>\n",
       "      <td>0</td>\n",
       "      <td>95.55</td>\n",
       "    </tr>\n",
       "    <tr>\n",
       "      <th>3</th>\n",
       "      <td>Business Class</td>\n",
       "      <td>Jan</td>\n",
       "      <td>Campbell River</td>\n",
       "      <td>Ottawa</td>\n",
       "      <td>1</td>\n",
       "      <td>3482.85</td>\n",
       "    </tr>\n",
       "    <tr>\n",
       "      <th>4</th>\n",
       "      <td>Business Class</td>\n",
       "      <td>Jan</td>\n",
       "      <td>Charlottetown</td>\n",
       "      <td>Calgary</td>\n",
       "      <td>1</td>\n",
       "      <td>2807.24</td>\n",
       "    </tr>\n",
       "  </tbody>\n",
       "</table>\n",
       "</div>"
      ],
      "text/plain": [
       "      Major Class Month of Travel Date             From         To  \\\n",
       "0  Business Class                  Jan         Calgary      Ottawa   \n",
       "1  Business Class                  Jan         Calgary    Victoria   \n",
       "2  Business Class                  Jan         Calgary    Winnipeg   \n",
       "3  Business Class                  Jan  Campbell River      Ottawa   \n",
       "4  Business Class                  Jan   Charlottetown     Calgary   \n",
       "\n",
       "   Sum of Net Tickets  Sum of Total $  \n",
       "0                   2         6045.62  \n",
       "1                   1          740.60  \n",
       "2                   0           95.55  \n",
       "3                   1         3482.85  \n",
       "4                   1         2807.24  "
      ]
     },
     "execution_count": 3,
     "metadata": {},
     "output_type": "execute_result"
    }
   ],
   "source": [
    "# Print top 5\n",
    "raw_df.head(5)"
   ]
  },
  {
   "cell_type": "code",
   "execution_count": 4,
   "metadata": {},
   "outputs": [
    {
     "data": {
      "text/plain": [
       "Index(['Major Class', 'Month of Travel Date', 'From', 'To',\n",
       "       'Sum of Net Tickets', 'Sum of Total $'],\n",
       "      dtype='object')"
      ]
     },
     "execution_count": 4,
     "metadata": {},
     "output_type": "execute_result"
    }
   ],
   "source": [
    "raw_df.columns"
   ]
  },
  {
   "cell_type": "code",
   "execution_count": 14,
   "metadata": {},
   "outputs": [],
   "source": [
    "# Function to drop rows with 0 number of tickets and 0 ticket cost\n",
    "clean_dataframe = lambda raw_df, col_names_to_clean: raw_df[(raw_df[col_names_to_clean[\"num_of_tickets\"]]>0)&(raw_df[col_names_to_clean[\"total_cost\"]]>0)].reset_index().drop(\"index\", axis=1)\n",
    "# Function to strip spaces\n",
    "strip_spaces = lambda x: x.strip()"
   ]
  },
  {
   "cell_type": "code",
   "execution_count": 15,
   "metadata": {},
   "outputs": [],
   "source": [
    "# Generic object to clean the given columns\n",
    "col_names_to_clean = {\n",
    "    \"num_of_tickets\": \"Sum of Net Tickets\",\n",
    "    \"total_cost\": \"Sum of Total $\"\n",
    "}\n",
    "# Column names to be stripped of spaces\n",
    "col_names_to_strip = ['Major Class', 'Month of Travel Date', 'From', 'To']"
   ]
  },
  {
   "cell_type": "code",
   "execution_count": 16,
   "metadata": {},
   "outputs": [],
   "source": [
    "# Produce the clean df from raw df\n",
    "clean_df = clean_dataframe(raw_df, col_names_to_clean)\n",
    "# Drop the last row\n",
    "clean_df = clean_df.loc[:clean_df.shape[0]-2, :]\n",
    "# Strip the columns in df\n",
    "for each_col in col_names_to_strip:\n",
    "    clean_df[each_col] = clean_df[each_col].apply(strip_spaces)"
   ]
  },
  {
   "cell_type": "code",
   "execution_count": 20,
   "metadata": {},
   "outputs": [],
   "source": [
    "clean_df.to_csv(\"../data/cleaned_government_data.csv\", index=False)"
   ]
  },
  {
   "cell_type": "code",
   "execution_count": 21,
   "metadata": {},
   "outputs": [
    {
     "data": {
      "text/html": [
       "<div>\n",
       "<style scoped>\n",
       "    .dataframe tbody tr th:only-of-type {\n",
       "        vertical-align: middle;\n",
       "    }\n",
       "\n",
       "    .dataframe tbody tr th {\n",
       "        vertical-align: top;\n",
       "    }\n",
       "\n",
       "    .dataframe thead th {\n",
       "        text-align: right;\n",
       "    }\n",
       "</style>\n",
       "<table border=\"1\" class=\"dataframe\">\n",
       "  <thead>\n",
       "    <tr style=\"text-align: right;\">\n",
       "      <th></th>\n",
       "      <th>Major Class</th>\n",
       "      <th>Month of Travel Date</th>\n",
       "      <th>From</th>\n",
       "      <th>To</th>\n",
       "      <th>Sum of Net Tickets</th>\n",
       "      <th>Sum of Total $</th>\n",
       "    </tr>\n",
       "  </thead>\n",
       "  <tbody>\n",
       "    <tr>\n",
       "      <th>0</th>\n",
       "      <td>Business Class</td>\n",
       "      <td>Jan</td>\n",
       "      <td>Calgary</td>\n",
       "      <td>Ottawa</td>\n",
       "      <td>2</td>\n",
       "      <td>6045.62</td>\n",
       "    </tr>\n",
       "    <tr>\n",
       "      <th>1</th>\n",
       "      <td>Business Class</td>\n",
       "      <td>Jan</td>\n",
       "      <td>Calgary</td>\n",
       "      <td>Victoria</td>\n",
       "      <td>1</td>\n",
       "      <td>740.60</td>\n",
       "    </tr>\n",
       "    <tr>\n",
       "      <th>2</th>\n",
       "      <td>Business Class</td>\n",
       "      <td>Jan</td>\n",
       "      <td>Campbell River</td>\n",
       "      <td>Ottawa</td>\n",
       "      <td>1</td>\n",
       "      <td>3482.85</td>\n",
       "    </tr>\n",
       "    <tr>\n",
       "      <th>3</th>\n",
       "      <td>Business Class</td>\n",
       "      <td>Jan</td>\n",
       "      <td>Charlottetown</td>\n",
       "      <td>Calgary</td>\n",
       "      <td>1</td>\n",
       "      <td>2807.24</td>\n",
       "    </tr>\n",
       "    <tr>\n",
       "      <th>4</th>\n",
       "      <td>Business Class</td>\n",
       "      <td>Jan</td>\n",
       "      <td>Charlottetown</td>\n",
       "      <td>Ottawa</td>\n",
       "      <td>1</td>\n",
       "      <td>737.35</td>\n",
       "    </tr>\n",
       "  </tbody>\n",
       "</table>\n",
       "</div>"
      ],
      "text/plain": [
       "      Major Class Month of Travel Date            From        To  \\\n",
       "0  Business Class                  Jan         Calgary    Ottawa   \n",
       "1  Business Class                  Jan         Calgary  Victoria   \n",
       "2  Business Class                  Jan  Campbell River    Ottawa   \n",
       "3  Business Class                  Jan   Charlottetown   Calgary   \n",
       "4  Business Class                  Jan   Charlottetown    Ottawa   \n",
       "\n",
       "   Sum of Net Tickets  Sum of Total $  \n",
       "0                   2         6045.62  \n",
       "1                   1          740.60  \n",
       "2                   1         3482.85  \n",
       "3                   1         2807.24  \n",
       "4                   1          737.35  "
      ]
     },
     "execution_count": 21,
     "metadata": {},
     "output_type": "execute_result"
    }
   ],
   "source": [
    "clean_df.head(5)"
   ]
  },
  {
   "cell_type": "code",
   "execution_count": null,
   "metadata": {},
   "outputs": [],
   "source": []
  }
 ],
 "metadata": {
  "kernelspec": {
   "display_name": "Python 3",
   "language": "python",
   "name": "python3"
  },
  "language_info": {
   "codemirror_mode": {
    "name": "ipython",
    "version": 3
   },
   "file_extension": ".py",
   "mimetype": "text/x-python",
   "name": "python",
   "nbconvert_exporter": "python",
   "pygments_lexer": "ipython3",
   "version": "3.7.2"
  }
 },
 "nbformat": 4,
 "nbformat_minor": 2
}
