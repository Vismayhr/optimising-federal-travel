{
 "cells": [
  {
   "cell_type": "code",
   "execution_count": 1,
   "metadata": {},
   "outputs": [],
   "source": [
    "import pandas as pd\n",
    "import numpy as np\n",
    "import pickle"
   ]
  },
  {
   "cell_type": "code",
   "execution_count": 2,
   "metadata": {},
   "outputs": [
    {
     "data": {
      "text/html": [
       "<div>\n",
       "<style scoped>\n",
       "    .dataframe tbody tr th:only-of-type {\n",
       "        vertical-align: middle;\n",
       "    }\n",
       "\n",
       "    .dataframe tbody tr th {\n",
       "        vertical-align: top;\n",
       "    }\n",
       "\n",
       "    .dataframe thead th {\n",
       "        text-align: right;\n",
       "    }\n",
       "</style>\n",
       "<table border=\"1\" class=\"dataframe\">\n",
       "  <thead>\n",
       "    <tr style=\"text-align: right;\">\n",
       "      <th></th>\n",
       "      <th>Major Class</th>\n",
       "      <th>Month of Travel Date</th>\n",
       "      <th>From</th>\n",
       "      <th>To</th>\n",
       "      <th>Sum of Net Tickets</th>\n",
       "      <th>Sum of Total $</th>\n",
       "    </tr>\n",
       "  </thead>\n",
       "  <tbody>\n",
       "    <tr>\n",
       "      <td>0</td>\n",
       "      <td>Business Class</td>\n",
       "      <td>Jan</td>\n",
       "      <td>Calgary</td>\n",
       "      <td>Ottawa</td>\n",
       "      <td>2</td>\n",
       "      <td>6045.62</td>\n",
       "    </tr>\n",
       "    <tr>\n",
       "      <td>1</td>\n",
       "      <td>Business Class</td>\n",
       "      <td>Jan</td>\n",
       "      <td>Calgary</td>\n",
       "      <td>Victoria</td>\n",
       "      <td>1</td>\n",
       "      <td>740.60</td>\n",
       "    </tr>\n",
       "    <tr>\n",
       "      <td>2</td>\n",
       "      <td>Business Class</td>\n",
       "      <td>Jan</td>\n",
       "      <td>Campbell River</td>\n",
       "      <td>Ottawa</td>\n",
       "      <td>1</td>\n",
       "      <td>3482.85</td>\n",
       "    </tr>\n",
       "    <tr>\n",
       "      <td>3</td>\n",
       "      <td>Business Class</td>\n",
       "      <td>Jan</td>\n",
       "      <td>Charlottetown</td>\n",
       "      <td>Calgary</td>\n",
       "      <td>1</td>\n",
       "      <td>2807.24</td>\n",
       "    </tr>\n",
       "    <tr>\n",
       "      <td>4</td>\n",
       "      <td>Business Class</td>\n",
       "      <td>Jan</td>\n",
       "      <td>Charlottetown</td>\n",
       "      <td>Ottawa</td>\n",
       "      <td>1</td>\n",
       "      <td>737.35</td>\n",
       "    </tr>\n",
       "  </tbody>\n",
       "</table>\n",
       "</div>"
      ],
      "text/plain": [
       "      Major Class Month of Travel Date            From        To  \\\n",
       "0  Business Class                  Jan         Calgary    Ottawa   \n",
       "1  Business Class                  Jan         Calgary  Victoria   \n",
       "2  Business Class                  Jan  Campbell River    Ottawa   \n",
       "3  Business Class                  Jan   Charlottetown   Calgary   \n",
       "4  Business Class                  Jan   Charlottetown    Ottawa   \n",
       "\n",
       "   Sum of Net Tickets  Sum of Total $  \n",
       "0                   2         6045.62  \n",
       "1                   1          740.60  \n",
       "2                   1         3482.85  \n",
       "3                   1         2807.24  \n",
       "4                   1          737.35  "
      ]
     },
     "execution_count": 2,
     "metadata": {},
     "output_type": "execute_result"
    }
   ],
   "source": [
    "dataset_path = \"./../data/cleaned_government_data.csv\"\n",
    "query_extra_details_base_path = \"./../data/visualisation_query_data/extra_details/\"\n",
    "\n",
    "df = pd.read_csv(dataset_path, header=0)\n",
    "df.head()"
   ]
  },
  {
   "cell_type": "code",
   "execution_count": 3,
   "metadata": {},
   "outputs": [],
   "source": [
    "all_months = np.unique(df[\"Month of Travel Date\"]).tolist()"
   ]
  },
  {
   "cell_type": "code",
   "execution_count": 4,
   "metadata": {},
   "outputs": [
    {
     "name": "stdout",
     "output_type": "stream",
     "text": [
      "There are 254 sources\n",
      "There are 254 destinations\n"
     ]
    },
    {
     "data": {
      "text/plain": [
       "267"
      ]
     },
     "execution_count": 4,
     "metadata": {},
     "output_type": "execute_result"
    }
   ],
   "source": [
    "unique_sources = np.unique(df['From']).tolist()\n",
    "unique_destinations = np.unique(df['To']).tolist()\n",
    "print(f\"There are {len(unique_sources)} sources\")\n",
    "print(f\"There are {len(unique_destinations)} destinations\")\n",
    "\n",
    "all_cities = set(unique_sources + unique_destinations)\n",
    "len(all_cities)"
   ]
  },
  {
   "cell_type": "code",
   "execution_count": 5,
   "metadata": {},
   "outputs": [
    {
     "data": {
      "text/plain": [
       "{'Calgary',\n",
       " 'Edmonton',\n",
       " 'Fredericton',\n",
       " 'Halifax',\n",
       " 'Montreal',\n",
       " 'Ottawa',\n",
       " 'Quebec',\n",
       " 'Regina',\n",
       " 'Saskatoon',\n",
       " \"St John's\",\n",
       " 'Thunder Bay',\n",
       " 'Toronto',\n",
       " 'Vancouver',\n",
       " 'Victoria',\n",
       " 'Winnipeg',\n",
       " 'Yellowknife'}"
      ]
     },
     "execution_count": 5,
     "metadata": {},
     "output_type": "execute_result"
    }
   ],
   "source": [
    "# Frequent destination cities\n",
    "destination_cities_df = pd.DataFrame(columns = ['dest_city', 'count'])\n",
    "for dest in unique_destinations:\n",
    "    count = int(df[df['To']==dest].shape[0])\n",
    "    row = destination_cities_df.shape[0]\n",
    "    destination_cities_df.loc[row] = [dest, count]\n",
    "    \n",
    "frequent_dest_cities = destination_cities_df.sort_values(by=['count'], ascending=False).head(15)\n",
    "frequent_dest_cities = frequent_dest_cities.reset_index()\n",
    "frequent_dest_cities\n",
    "destination_cities = frequent_dest_cities['dest_city'].tolist()\n",
    "\n",
    "# Frequent source cities\n",
    "source_cities_df = pd.DataFrame(columns = ['source_city', 'count'])\n",
    "for source in unique_sources:\n",
    "    count = int(df[df['From']==source].shape[0])\n",
    "    row = source_cities_df.shape[0]\n",
    "    source_cities_df.loc[row] = [source, count]\n",
    "    \n",
    "frequent_source_cities = source_cities_df.sort_values(by=['count'], ascending=False).head(15)\n",
    "frequent_source_cities = frequent_source_cities.reset_index()\n",
    "frequent_source_cities\n",
    "source_cities = frequent_source_cities['source_city'].tolist()\n",
    "\n",
    "important_cities = source_cities + destination_cities\n",
    "unique_imp_cities = set(important_cities)\n",
    "unique_imp_cities"
   ]
  },
  {
   "cell_type": "markdown",
   "metadata": {},
   "source": [
    "## Query1"
   ]
  },
  {
   "cell_type": "code",
   "execution_count": 6,
   "metadata": {},
   "outputs": [
    {
     "name": "stdout",
     "output_type": "stream",
     "text": [
      "CPU times: user 586 ms, sys: 3.55 ms, total: 590 ms\n",
      "Wall time: 588 ms\n"
     ]
    }
   ],
   "source": [
    "%%time\n",
    "data = {}\n",
    "for imp_city in unique_imp_cities:\n",
    "    data[imp_city] = {}\n",
    "    values = []\n",
    "    for month in all_months:\n",
    "        query_result = df[(df['To']==imp_city) & (df['Month of Travel Date']==month)]\n",
    "        val = int(np.sum(query_result['Sum of Net Tickets']))\n",
    "        data[imp_city][month] = val\n",
    "        values.append(val)\n",
    "    data[imp_city]['min'] = min(values)\n",
    "    data[imp_city]['max'] = max(values)\n",
    "    data[imp_city]['avg'] = round(sum(values)/len(values))\n",
    "\n",
    "filename = query_extra_details_base_path + \"query1.sav\"\n",
    "with open(filename, 'wb') as f:\n",
    "    pickle.dump(data, f)"
   ]
  },
  {
   "cell_type": "markdown",
   "metadata": {},
   "source": [
    "## Query 2"
   ]
  },
  {
   "cell_type": "code",
   "execution_count": 7,
   "metadata": {},
   "outputs": [
    {
     "name": "stdout",
     "output_type": "stream",
     "text": [
      "CPU times: user 575 ms, sys: 4.17 ms, total: 579 ms\n",
      "Wall time: 579 ms\n"
     ]
    }
   ],
   "source": [
    "%%time\n",
    "data = {}\n",
    "for imp_city in unique_imp_cities:\n",
    "    data[imp_city] = {}\n",
    "    values = []\n",
    "    for month in all_months:\n",
    "        query_result = df[(df['From']==imp_city) & (df['Month of Travel Date']==month)]\n",
    "        val = int(np.sum(query_result['Sum of Net Tickets']))\n",
    "        data[imp_city][month] = val\n",
    "        values.append(val)\n",
    "    data[imp_city]['min'] = min(values)\n",
    "    data[imp_city]['max'] = max(values)\n",
    "    data[imp_city]['avg'] = round(sum(values)/len(values))\n",
    "\n",
    "filename = query_extra_details_base_path + \"query2.sav\"\n",
    "with open(filename, 'wb') as f:\n",
    "    pickle.dump(data, f)"
   ]
  },
  {
   "cell_type": "markdown",
   "metadata": {},
   "source": [
    "## Query 3"
   ]
  },
  {
   "cell_type": "code",
   "execution_count": 8,
   "metadata": {},
   "outputs": [
    {
     "name": "stdout",
     "output_type": "stream",
     "text": [
      "CPU times: user 612 ms, sys: 0 ns, total: 612 ms\n",
      "Wall time: 611 ms\n"
     ]
    }
   ],
   "source": [
    "%%time\n",
    "data = {}\n",
    "for imp_city in unique_imp_cities:\n",
    "    data[imp_city] = {}\n",
    "    values = []\n",
    "    for month in all_months:\n",
    "        query_result = df[(df['From']==imp_city) & (df['Month of Travel Date']==month)]\n",
    "        passenger_count = int(np.sum(query_result['Sum of Net Tickets']))\n",
    "        total_cost = int(np.sum(query_result[\"Sum of Total $\"]))\n",
    "        avg_cost = int(round((total_cost/passenger_count),2))\n",
    "        data[imp_city][month] = avg_cost\n",
    "        values.append(avg_cost)\n",
    "    data[imp_city]['min'] = min(values)\n",
    "    data[imp_city]['max'] = max(values)\n",
    "    data[imp_city]['avg'] = round(sum(values)/len(values))\n",
    "\n",
    "filename = query_extra_details_base_path + \"query3.sav\"\n",
    "with open(filename, 'wb') as f:\n",
    "    pickle.dump(data, f)"
   ]
  },
  {
   "cell_type": "markdown",
   "metadata": {},
   "source": [
    "## Query 4"
   ]
  },
  {
   "cell_type": "code",
   "execution_count": 9,
   "metadata": {},
   "outputs": [
    {
     "name": "stdout",
     "output_type": "stream",
     "text": [
      "CPU times: user 618 ms, sys: 4.1 ms, total: 622 ms\n",
      "Wall time: 621 ms\n"
     ]
    }
   ],
   "source": [
    "%%time\n",
    "data = {}\n",
    "for imp_city in unique_imp_cities:\n",
    "    data[imp_city] = {}\n",
    "    values = []\n",
    "    for month in all_months:\n",
    "        query_result = df[(df['To']==imp_city) & (df['Month of Travel Date']==month)]\n",
    "        passenger_count = int(np.sum(query_result['Sum of Net Tickets']))\n",
    "        total_cost = int(np.sum(query_result[\"Sum of Total $\"]))\n",
    "        avg_cost = int(round((total_cost/passenger_count),2))\n",
    "        data[imp_city][month] = avg_cost\n",
    "        values.append(avg_cost)\n",
    "    data[imp_city]['min'] = min(values)\n",
    "    data[imp_city]['max'] = max(values)\n",
    "    data[imp_city]['avg'] = round(sum(values)/len(values))\n",
    "\n",
    "filename = query_extra_details_base_path + \"query4.sav\"\n",
    "with open(filename, 'wb') as f:\n",
    "    pickle.dump(data, f)"
   ]
  },
  {
   "cell_type": "markdown",
   "metadata": {},
   "source": [
    "## Query 5"
   ]
  },
  {
   "cell_type": "code",
   "execution_count": 10,
   "metadata": {},
   "outputs": [
    {
     "name": "stdout",
     "output_type": "stream",
     "text": [
      "CPU times: user 581 ms, sys: 47 µs, total: 582 ms\n",
      "Wall time: 580 ms\n"
     ]
    }
   ],
   "source": [
    "%%time\n",
    "data = {}\n",
    "for imp_city in unique_imp_cities:\n",
    "    data[imp_city] = {}\n",
    "    values = []\n",
    "    for month in all_months:\n",
    "        query_result = df[(df['To']==imp_city) & (df['Month of Travel Date']==month)]\n",
    "        val = int(round(np.sum(query_result['Sum of Total $']),2))\n",
    "        data[imp_city][month] = val\n",
    "        values.append(val)\n",
    "    data[imp_city]['min'] = min(values)\n",
    "    data[imp_city]['max'] = max(values)\n",
    "    data[imp_city]['avg'] = round(sum(values)/len(values))\n",
    "\n",
    "filename = query_extra_details_base_path + \"query5.sav\"\n",
    "with open(filename, 'wb') as f:\n",
    "    pickle.dump(data, f)"
   ]
  },
  {
   "cell_type": "markdown",
   "metadata": {},
   "source": [
    "## Query 6"
   ]
  },
  {
   "cell_type": "code",
   "execution_count": 11,
   "metadata": {},
   "outputs": [
    {
     "name": "stdout",
     "output_type": "stream",
     "text": [
      "CPU times: user 599 ms, sys: 56 µs, total: 599 ms\n",
      "Wall time: 597 ms\n"
     ]
    }
   ],
   "source": [
    "%%time\n",
    "data = {}\n",
    "for imp_city in unique_imp_cities:\n",
    "    data[imp_city] = {}\n",
    "    values = []\n",
    "    for month in all_months:\n",
    "        query_result = df[(df['From']==imp_city) & (df['Month of Travel Date']==month)]\n",
    "        val = int(round(np.sum(query_result['Sum of Total $']),2))\n",
    "        data[imp_city][month] = val\n",
    "        values.append(val)\n",
    "    data[imp_city]['min'] = min(values)\n",
    "    data[imp_city]['max'] = max(values)\n",
    "    data[imp_city]['avg'] = round(sum(values)/len(values))\n",
    "\n",
    "filename = query_extra_details_base_path + \"query6.sav\"\n",
    "with open(filename, 'wb') as f:\n",
    "    pickle.dump(data, f)"
   ]
  },
  {
   "cell_type": "markdown",
   "metadata": {},
   "source": [
    "## Query  7"
   ]
  },
  {
   "cell_type": "code",
   "execution_count": 12,
   "metadata": {},
   "outputs": [
    {
     "name": "stdout",
     "output_type": "stream",
     "text": [
      "CPU times: user 542 ms, sys: 3.87 ms, total: 546 ms\n",
      "Wall time: 544 ms\n"
     ]
    }
   ],
   "source": [
    "%%time\n",
    "data = {}\n",
    "for imp_city in unique_imp_cities:\n",
    "    data[imp_city] = {}\n",
    "    values = []\n",
    "    for month in all_months:\n",
    "        query_result = df[(df['To']==imp_city) & (df['Month of Travel Date']==month)]\n",
    "        val = int(round(np.sum(query_result['Sum of Net Tickets'])))\n",
    "        data[imp_city][month] = val\n",
    "        values.append(val)\n",
    "    data[imp_city]['min'] = min(values)\n",
    "    data[imp_city]['max'] = max(values)\n",
    "    data[imp_city]['avg'] = round(sum(values)/len(values))\n",
    "\n",
    "filename = query_extra_details_base_path + \"query7.sav\"\n",
    "with open(filename, 'wb') as f:\n",
    "    pickle.dump(data, f)"
   ]
  },
  {
   "cell_type": "markdown",
   "metadata": {},
   "source": [
    "## Query 8"
   ]
  },
  {
   "cell_type": "code",
   "execution_count": 13,
   "metadata": {},
   "outputs": [
    {
     "name": "stdout",
     "output_type": "stream",
     "text": [
      "CPU times: user 543 ms, sys: 7.97 ms, total: 551 ms\n",
      "Wall time: 550 ms\n"
     ]
    }
   ],
   "source": [
    "%%time\n",
    "data = {}\n",
    "for imp_city in unique_imp_cities:\n",
    "    data[imp_city] = {}\n",
    "    values = []\n",
    "    for month in all_months:\n",
    "        query_result = df[(df['From']==imp_city) & (df['Month of Travel Date']==month)]\n",
    "        val = int(round(np.sum(query_result['Sum of Net Tickets'])))\n",
    "        data[imp_city][month] = val\n",
    "        values.append(val)\n",
    "    data[imp_city]['min'] = min(values)\n",
    "    data[imp_city]['max'] = max(values)\n",
    "    data[imp_city]['avg'] = round(sum(values)/len(values))\n",
    "\n",
    "filename = query_extra_details_base_path + \"query8.sav\"\n",
    "with open(filename, 'wb') as f:\n",
    "    pickle.dump(data, f)"
   ]
  },
  {
   "cell_type": "code",
   "execution_count": 14,
   "metadata": {},
   "outputs": [
    {
     "data": {
      "text/plain": [
       "{'Thunder Bay': {'Apr': 206,\n",
       "  'Aug': 206,\n",
       "  'Dec': 149,\n",
       "  'Feb': 208,\n",
       "  'Jan': 185,\n",
       "  'Jul': 210,\n",
       "  'Jun': 213,\n",
       "  'Mar': 227,\n",
       "  'May': 197,\n",
       "  'Nov': 306,\n",
       "  'Oct': 274,\n",
       "  'Sep': 249,\n",
       "  'min': 149,\n",
       "  'max': 306,\n",
       "  'avg': 219},\n",
       " 'Winnipeg': {'Apr': 1221,\n",
       "  'Aug': 1095,\n",
       "  'Dec': 815,\n",
       "  'Feb': 1556,\n",
       "  'Jan': 1471,\n",
       "  'Jul': 1173,\n",
       "  'Jun': 1720,\n",
       "  'Mar': 1579,\n",
       "  'May': 1942,\n",
       "  'Nov': 1948,\n",
       "  'Oct': 1866,\n",
       "  'Sep': 1778,\n",
       "  'min': 815,\n",
       "  'max': 1948,\n",
       "  'avg': 1514},\n",
       " 'Montreal': {'Apr': 934,\n",
       "  'Aug': 778,\n",
       "  'Dec': 542,\n",
       "  'Feb': 1221,\n",
       "  'Jan': 1361,\n",
       "  'Jul': 1066,\n",
       "  'Jun': 935,\n",
       "  'Mar': 1231,\n",
       "  'May': 961,\n",
       "  'Nov': 1399,\n",
       "  'Oct': 1242,\n",
       "  'Sep': 1256,\n",
       "  'min': 542,\n",
       "  'max': 1399,\n",
       "  'avg': 1077},\n",
       " 'Calgary': {'Apr': 711,\n",
       "  'Aug': 668,\n",
       "  'Dec': 583,\n",
       "  'Feb': 1128,\n",
       "  'Jan': 870,\n",
       "  'Jul': 845,\n",
       "  'Jun': 982,\n",
       "  'Mar': 1347,\n",
       "  'May': 1031,\n",
       "  'Nov': 1255,\n",
       "  'Oct': 1228,\n",
       "  'Sep': 1033,\n",
       "  'min': 583,\n",
       "  'max': 1347,\n",
       "  'avg': 973},\n",
       " 'Vancouver': {'Apr': 1473,\n",
       "  'Aug': 1192,\n",
       "  'Dec': 1156,\n",
       "  'Feb': 2116,\n",
       "  'Jan': 1865,\n",
       "  'Jul': 1427,\n",
       "  'Jun': 1745,\n",
       "  'Mar': 2292,\n",
       "  'May': 1838,\n",
       "  'Nov': 2284,\n",
       "  'Oct': 2148,\n",
       "  'Sep': 1654,\n",
       "  'min': 1156,\n",
       "  'max': 2292,\n",
       "  'avg': 1766},\n",
       " 'Regina': {'Apr': 457,\n",
       "  'Aug': 386,\n",
       "  'Dec': 319,\n",
       "  'Feb': 557,\n",
       "  'Jan': 444,\n",
       "  'Jul': 457,\n",
       "  'Jun': 472,\n",
       "  'Mar': 485,\n",
       "  'May': 527,\n",
       "  'Nov': 532,\n",
       "  'Oct': 600,\n",
       "  'Sep': 569,\n",
       "  'min': 319,\n",
       "  'max': 600,\n",
       "  'avg': 484},\n",
       " 'Fredericton': {'Apr': 362,\n",
       "  'Aug': 260,\n",
       "  'Dec': 177,\n",
       "  'Feb': 467,\n",
       "  'Jan': 490,\n",
       "  'Jul': 415,\n",
       "  'Jun': 596,\n",
       "  'Mar': 494,\n",
       "  'May': 744,\n",
       "  'Nov': 401,\n",
       "  'Oct': 510,\n",
       "  'Sep': 546,\n",
       "  'min': 177,\n",
       "  'max': 744,\n",
       "  'avg': 455},\n",
       " 'Saskatoon': {'Apr': 215,\n",
       "  'Aug': 202,\n",
       "  'Dec': 180,\n",
       "  'Feb': 308,\n",
       "  'Jan': 228,\n",
       "  'Jul': 193,\n",
       "  'Jun': 357,\n",
       "  'Mar': 343,\n",
       "  'May': 301,\n",
       "  'Nov': 351,\n",
       "  'Oct': 345,\n",
       "  'Sep': 353,\n",
       "  'min': 180,\n",
       "  'max': 357,\n",
       "  'avg': 281},\n",
       " 'Victoria': {'Apr': 722,\n",
       "  'Aug': 548,\n",
       "  'Dec': 547,\n",
       "  'Feb': 1116,\n",
       "  'Jan': 928,\n",
       "  'Jul': 697,\n",
       "  'Jun': 941,\n",
       "  'Mar': 1481,\n",
       "  'May': 1136,\n",
       "  'Nov': 1110,\n",
       "  'Oct': 1154,\n",
       "  'Sep': 702,\n",
       "  'min': 547,\n",
       "  'max': 1481,\n",
       "  'avg': 924},\n",
       " 'Yellowknife': {'Apr': 231,\n",
       "  'Aug': 380,\n",
       "  'Dec': 165,\n",
       "  'Feb': 300,\n",
       "  'Jan': 420,\n",
       "  'Jul': 360,\n",
       "  'Jun': 482,\n",
       "  'Mar': 366,\n",
       "  'May': 438,\n",
       "  'Nov': 442,\n",
       "  'Oct': 397,\n",
       "  'Sep': 395,\n",
       "  'min': 165,\n",
       "  'max': 482,\n",
       "  'avg': 365},\n",
       " 'Toronto': {'Apr': 2838,\n",
       "  'Aug': 1918,\n",
       "  'Dec': 1871,\n",
       "  'Feb': 3434,\n",
       "  'Jan': 2728,\n",
       "  'Jul': 2042,\n",
       "  'Jun': 3560,\n",
       "  'Mar': 3184,\n",
       "  'May': 3638,\n",
       "  'Nov': 3969,\n",
       "  'Oct': 3631,\n",
       "  'Sep': 3385,\n",
       "  'min': 1871,\n",
       "  'max': 3969,\n",
       "  'avg': 3016},\n",
       " 'Quebec': {'Apr': 240,\n",
       "  'Aug': 179,\n",
       "  'Dec': 345,\n",
       "  'Feb': 543,\n",
       "  'Jan': 548,\n",
       "  'Jul': 388,\n",
       "  'Jun': 443,\n",
       "  'Mar': 499,\n",
       "  'May': 383,\n",
       "  'Nov': 498,\n",
       "  'Oct': 418,\n",
       "  'Sep': 439,\n",
       "  'min': 179,\n",
       "  'max': 548,\n",
       "  'avg': 410},\n",
       " \"St John's\": {'Apr': 394,\n",
       "  'Aug': 528,\n",
       "  'Dec': 435,\n",
       "  'Feb': 549,\n",
       "  'Jan': 484,\n",
       "  'Jul': 550,\n",
       "  'Jun': 642,\n",
       "  'Mar': 665,\n",
       "  'May': 705,\n",
       "  'Nov': 937,\n",
       "  'Oct': 928,\n",
       "  'Sep': 789,\n",
       "  'min': 394,\n",
       "  'max': 937,\n",
       "  'avg': 634},\n",
       " 'Ottawa': {'Apr': 3207,\n",
       "  'Aug': 1870,\n",
       "  'Dec': 2593,\n",
       "  'Feb': 4785,\n",
       "  'Jan': 3996,\n",
       "  'Jul': 2164,\n",
       "  'Jun': 4569,\n",
       "  'Mar': 4650,\n",
       "  'May': 4705,\n",
       "  'Nov': 5363,\n",
       "  'Oct': 5010,\n",
       "  'Sep': 4269,\n",
       "  'min': 1870,\n",
       "  'max': 5363,\n",
       "  'avg': 3932},\n",
       " 'Edmonton': {'Apr': 1181,\n",
       "  'Aug': 926,\n",
       "  'Dec': 736,\n",
       "  'Feb': 1324,\n",
       "  'Jan': 1138,\n",
       "  'Jul': 1122,\n",
       "  'Jun': 1544,\n",
       "  'Mar': 1542,\n",
       "  'May': 1853,\n",
       "  'Nov': 1523,\n",
       "  'Oct': 1343,\n",
       "  'Sep': 1414,\n",
       "  'min': 736,\n",
       "  'max': 1853,\n",
       "  'avg': 1304},\n",
       " 'Halifax': {'Apr': 1537,\n",
       "  'Aug': 1110,\n",
       "  'Dec': 1272,\n",
       "  'Feb': 1814,\n",
       "  'Jan': 1667,\n",
       "  'Jul': 1326,\n",
       "  'Jun': 2191,\n",
       "  'Mar': 2145,\n",
       "  'May': 2228,\n",
       "  'Nov': 2066,\n",
       "  'Oct': 2156,\n",
       "  'Sep': 1871,\n",
       "  'min': 1110,\n",
       "  'max': 2228,\n",
       "  'avg': 1782}}"
      ]
     },
     "execution_count": 14,
     "metadata": {},
     "output_type": "execute_result"
    }
   ],
   "source": [
    "with open(query_extra_details_base_path + \"query7.sav\", 'rb') as f:\n",
    "    x = pickle.load(f)\n",
    "x"
   ]
  },
  {
   "cell_type": "code",
   "execution_count": 15,
   "metadata": {},
   "outputs": [
    {
     "data": {
      "text/plain": [
       "int"
      ]
     },
     "execution_count": 15,
     "metadata": {},
     "output_type": "execute_result"
    }
   ],
   "source": [
    "type(x['Vancouver']['Apr'])"
   ]
  },
  {
   "cell_type": "code",
   "execution_count": null,
   "metadata": {},
   "outputs": [],
   "source": []
  }
 ],
 "metadata": {
  "kernelspec": {
   "display_name": "Python 3",
   "language": "python",
   "name": "python3"
  },
  "language_info": {
   "codemirror_mode": {
    "name": "ipython",
    "version": 3
   },
   "file_extension": ".py",
   "mimetype": "text/x-python",
   "name": "python",
   "nbconvert_exporter": "python",
   "pygments_lexer": "ipython3",
   "version": "3.7.3"
  }
 },
 "nbformat": 4,
 "nbformat_minor": 2
}
